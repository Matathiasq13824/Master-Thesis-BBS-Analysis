{
 "cells": [
  {
   "cell_type": "code",
   "execution_count": null,
   "metadata": {},
   "outputs": [],
   "source": [
    "%load_ext autoreload\n",
    "%autoreload 2\n",
    "import pandas as pd\n",
    "import matplotlib.pyplot as plt\n",
    "import seaborn as sns\n",
    "import joblib\n",
    "import time\n",
    "\n",
    "import numpy as np\n",
    "from numpy.typing import NDArray\n",
    "from typing import List, Tuple\n",
    "import os, os.path\n",
    "\n",
    "number_run = 1"
   ]
  },
  {
   "cell_type": "code",
   "execution_count": null,
   "metadata": {},
   "outputs": [],
   "source": [
    "\n",
    "for t in range(number_run):\n",
    "    run = f\"run2_trial3_issuance_1000\"\n",
    "    print(run)\n",
    "    DIR = f\"../library_test/credentials/{run}\"\n",
    "    files = [name for name in os.listdir(DIR) if os.path.isfile(os.path.join(DIR, name))]\n",
    "    files.sort()\n",
    "\n",
    "    for name in files:\n",
    "        df = pd.read_csv(os.path.join(DIR, name))\n",
    "        df.to_csv(f\"cleanup_{run}.csv\", mode= \"a\", header= (not os.path.exists(f\"cleanup_{run}.csv\")), index = False)\n",
    "        print(name)\n"
   ]
  },
  {
   "cell_type": "code",
   "execution_count": null,
   "metadata": {},
   "outputs": [],
   "source": [
    "file_name = \"run2_trial3_issuance_1000\"\n",
    "\n",
    "df = pd.read_csv(f\"cleanup_{file_name}.csv\")\n",
    "df[\"New_Proof\"] = df[\"proof array\"].apply(lambda x: list(map(int, x.split(','))))\n",
    "df[\"Size\"] = df[\"New_Proof\"].apply(lambda x: len(x))\n",
    "max_length = df[\"Size\"].max()\n",
    "df[\"number_attributes\"]= 12+df[\"Number of general additional informations\"]+3*df[\"Number of categories\"]+df[\"Number of additional inforations of each categories\"].apply(lambda x: sum(map(int, x.split(','))))\n",
    "# Number of categories,\n",
    "# Number of additional inforations of each categories,\n",
    "# Number of general additional informations\n",
    "\n",
    "print(\"Max length: \", max_length)\n",
    "for x in range(max_length):\n",
    "    df[\"proof_array_\"+str(x)] = df[\"New_Proof\"].apply(lambda y: y[x] if len(y) > x else 0)\n",
    "df = df.drop(\"New_Proof\", axis= 1)\n",
    "df = df.drop(\"proof array\", axis= 1)\n",
    "df.to_csv(f\"formatted_{file_name}.csv\", index=False)\n",
    "print(f\"{file_name}.csv end\")"
   ]
  },
  {
   "cell_type": "code",
   "execution_count": null,
   "metadata": {},
   "outputs": [],
   "source": [
    "df_total = pd.read_csv(f\"cleanup_run1_trial3_issuance_100.csv\").iloc[:600000].copy()"
   ]
  },
  {
   "cell_type": "code",
   "execution_count": null,
   "metadata": {},
   "outputs": [],
   "source": [
    "df_total"
   ]
  }
 ],
 "metadata": {
  "kernelspec": {
   "display_name": "venv",
   "language": "python",
   "name": "python3"
  },
  "language_info": {
   "codemirror_mode": {
    "name": "ipython",
    "version": 3
   },
   "file_extension": ".py",
   "mimetype": "text/x-python",
   "name": "python",
   "nbconvert_exporter": "python",
   "pygments_lexer": "ipython3",
   "version": "3.13.0"
  }
 },
 "nbformat": 4,
 "nbformat_minor": 2
}
