{
 "cells": [
  {
   "cell_type": "markdown",
   "metadata": {},
   "source": [
    "Jupyter Notebook used for the cleanup and the formatting of the generated zero-knowledge proofs, allowing the training of the model on it. This notebook must be used before 'model_training_and_evaluation``"
   ]
  },
  {
   "cell_type": "code",
   "execution_count": null,
   "metadata": {},
   "outputs": [],
   "source": [
    "%load_ext autoreload\n",
    "%autoreload 2\n",
    "import pandas as pd\n",
    "import os, os.path\n",
    "\n",
    "# Name of the folder containing all the generated proofs\n",
    "folder_name = f\"run\""
   ]
  },
  {
   "cell_type": "code",
   "execution_count": null,
   "metadata": {},
   "outputs": [],
   "source": [
    "# First Cleanup, concatenating all the generated proof in one folder and making the first formatting\n",
    "DIR = f\"../typescript/credentials/{folder_name}\"\n",
    "files = [name for name in os.listdir(DIR) if os.path.isfile(os.path.join(DIR, name))]\n",
    "files.sort()\n",
    "files = filter(lambda x: \".csv\" in x, files)\n",
    "for name in files:\n",
    "    df = pd.read_csv(os.path.join(DIR, name))\n",
    "\n",
    "    # If the proof came from a driving license credential, \n",
    "    # we need to recover the total number of attributes of the credential\n",
    "    if '\"Number of categories\"' in df.columns:\n",
    "        df[\"number_attributes\"]= (12\n",
    "                +df[\"Number of general additional informations\"]\n",
    "                +3*df[\"Number of categories\"]\n",
    "                +df[\"Number of additional inforations of each categories\"]).apply(lambda x: sum(map(int, x.split(','))))\n",
    "\n",
    "    # Store all the data into the temporary csv file before the final cleanup\n",
    "    df.to_csv(f\"cleanup_{folder_name}.csv\", mode= \"a\", header= (not os.path.exists(f\"cleanup_{folder_name}.csv\")), index = False)\n",
    "    print(name)\n"
   ]
  },
  {
   "cell_type": "code",
   "execution_count": null,
   "metadata": {},
   "outputs": [],
   "source": [
    "# Final cleanup, separating the proof into multiple columns\n",
    "df = pd.read_csv(f\"cleanup_{folder_name}.csv\")\n",
    "df[\"New_Proof\"] = df[\"proof array\"].apply(lambda x: list(map(int, x.split(','))))\n",
    "df[\"Size\"] = df[\"New_Proof\"].apply(lambda x: len(x))\n",
    "\n",
    "max_length = df[\"Size\"].max()\n",
    "print(\"Max length: \", max_length)\n",
    "for x in range(max_length):\n",
    "    df[\"proof_array_\"+str(x)] = df[\"New_Proof\"].apply(lambda y: y[x] if len(y) > x else 0)\n",
    "df = df.drop(\"New_Proof\", axis= 1)\n",
    "df = df.drop(\"proof array\", axis= 1)\n",
    "# Final cleaned file\n",
    "df.to_csv(f\"formatted_{folder_name}.csv\", index=False)\n",
    "print(f\"formatted_{folder_name}.csv end\")"
   ]
  }
 ],
 "metadata": {
  "kernelspec": {
   "display_name": ".venv",
   "language": "python",
   "name": "python3"
  },
  "language_info": {
   "codemirror_mode": {
    "name": "ipython",
    "version": 3
   },
   "file_extension": ".py",
   "mimetype": "text/x-python",
   "name": "python",
   "nbconvert_exporter": "python",
   "pygments_lexer": "ipython3",
   "version": "3.13.0"
  }
 },
 "nbformat": 4,
 "nbformat_minor": 2
}
